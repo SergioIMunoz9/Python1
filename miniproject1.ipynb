{
  "nbformat": 4,
  "nbformat_minor": 0,
  "metadata": {
    "colab": {
      "name": "Untitled2.ipynb",
      "provenance": [],
      "authorship_tag": "ABX9TyNOP4BGjP8zI5BSFmK7RHNd",
      "include_colab_link": true
    },
    "kernelspec": {
      "name": "python3",
      "display_name": "Python 3"
    },
    "language_info": {
      "name": "python"
    }
  },
  "cells": [
    {
      "cell_type": "markdown",
      "metadata": {
        "id": "view-in-github",
        "colab_type": "text"
      },
      "source": [
        "<a href=\"https://colab.research.google.com/github/SergioIMunoz9/Python1/blob/main/miniproject1.ipynb\" target=\"_parent\"><img src=\"https://colab.research.google.com/assets/colab-badge.svg\" alt=\"Open In Colab\"/></a>"
      ]
    },
    {
      "cell_type": "code",
      "source": [
        "#Mini project 1, group 4\n",
        "\n",
        "num = int(input(\"Type in a number here:\"))\n",
        "mod = num % 2\n",
        "if  mod > 0:\n",
        "  print('Is an odd number. ')\n",
        "else:\n",
        "  print('is an even number. ')\n",
        "if num % 4 == 0:\n",
        "  print(num, \"is a multiple of 4. \")"
      ],
      "metadata": {
        "colab": {
          "base_uri": "https://localhost:8080/"
        },
        "id": "VdY68EjTCogE",
        "outputId": "f89f3cf1-e570-4e7d-b59b-ff3a9f79e244"
      },
      "execution_count": null,
      "outputs": [
        {
          "output_type": "stream",
          "name": "stdout",
          "text": [
            "Type in a number here:8\n",
            "is an even number. \n",
            "8 is a multiple of 4. \n"
          ]
        }
      ]
    }
  ]
}