{
  "nbformat": 4,
  "nbformat_minor": 0,
  "metadata": {
    "colab": {
      "name": "Untitled0.ipynb",
      "provenance": [],
      "collapsed_sections": [],
      "authorship_tag": "ABX9TyP0ytTx1A2H9XYGTA8MObgj",
      "include_colab_link": true
    },
    "kernelspec": {
      "name": "python3",
      "display_name": "Python 3"
    },
    "language_info": {
      "name": "python"
    }
  },
  "cells": [
    {
      "cell_type": "markdown",
      "metadata": {
        "id": "view-in-github",
        "colab_type": "text"
      },
      "source": [
        "<a href=\"https://colab.research.google.com/github/SergioIMunoz9/Python1/blob/main/unit2HW.ipynb\" target=\"_parent\"><img src=\"https://colab.research.google.com/assets/colab-badge.svg\" alt=\"Open In Colab\"/></a>"
      ]
    },
    {
      "cell_type": "markdown",
      "source": [
        "Assingment Unit 2_L2\n",
        "\n",
        "1- Python is a type of computer programing language. It's used for a variety of tasks such as creating a variety of different programs and it's also useful to conduct data analysis.\n"
      ],
      "metadata": {
        "id": "7mNgnyZnyCH9"
      }
    },
    {
      "cell_type": "markdown",
      "source": [
        "2- \n",
        "a- not allowed, cant start with a number\n",
        "b-allowed\n",
        "c-allowed\n",
        "d-not allowed- cant have a space\n",
        "e-allowed\n"
      ],
      "metadata": {
        "id": "vaL8ljkapR2H"
      }
    },
    {
      "cell_type": "code",
      "source": [
        "#3-\n",
        "\n",
        "message= \"hello there!\"\n",
        "print(message)"
      ],
      "metadata": {
        "colab": {
          "base_uri": "https://localhost:8080/"
        },
        "id": "iOOOulXz0fre",
        "outputId": "650c1c8b-b8e2-4dfb-a483-529448de6599"
      },
      "execution_count": 2,
      "outputs": [
        {
          "output_type": "stream",
          "name": "stdout",
          "text": [
            "hello there!\n"
          ]
        }
      ]
    },
    {
      "cell_type": "code",
      "source": [
        "#4-\n",
        "\n",
        "first_name= \"munoz\"\n",
        "last_name= \"sergio\"\n",
        "extension= \"@Gmail.com\"\n",
        "email= first_name + last_name + extension\n",
        "print(email)"
      ],
      "metadata": {
        "colab": {
          "base_uri": "https://localhost:8080/"
        },
        "id": "U8tJWIDM1Lim",
        "outputId": "e94b3556-6c17-4b0d-db61-b22a630f565d"
      },
      "execution_count": 3,
      "outputs": [
        {
          "output_type": "stream",
          "name": "stdout",
          "text": [
            "munozsergio@Gmail.com\n"
          ]
        }
      ]
    },
    {
      "cell_type": "code",
      "source": [
        "#5-\n",
        "\n",
        "name= \"brian roth\"\n",
        "print(name.upper())\n",
        "print(name.lower())"
      ],
      "metadata": {
        "colab": {
          "base_uri": "https://localhost:8080/"
        },
        "id": "xPyFXU8x17wv",
        "outputId": "33c36335-ccc1-48fd-8980-b4e2e872bea7"
      },
      "execution_count": 4,
      "outputs": [
        {
          "output_type": "stream",
          "name": "stdout",
          "text": [
            "BRIAN ROTH\n",
            "brian roth\n"
          ]
        }
      ]
    },
    {
      "cell_type": "code",
      "source": [
        "#6-\n",
        "\n",
        "date=15\n",
        "message= \"Do you want to hang out on the \" +str(date) + \"th of this month?\"\n",
        "print(message)\n"
      ],
      "metadata": {
        "colab": {
          "base_uri": "https://localhost:8080/"
        },
        "id": "fQVhQveZ2vqk",
        "outputId": "13bf9a80-a2d9-40a5-b374-a6ee45ce723b"
      },
      "execution_count": 8,
      "outputs": [
        {
          "output_type": "stream",
          "name": "stdout",
          "text": [
            "Do you want to hang out on the 15th of this month?\n"
          ]
        }
      ]
    },
    {
      "cell_type": "markdown",
      "source": [
        "Unit 2_L3"
      ],
      "metadata": {
        "id": "npid0FBc72F5"
      }
    },
    {
      "cell_type": "code",
      "source": [
        "#1 #2 #3 #4\n",
        "\n",
        "tvshows= [ 'Stranger Things','In the Dark', 'Lincoln Lawyer', 'Russian Doll', 'Seven Seconds']\n",
        "#question 2\n",
        "print(tvshows)\n",
        "#question 3\n",
        "tvshows.sort()\n",
        "print(tvshows)\n",
        "#question 3\n",
        "print(sorted(tvshows))\n",
        "#question 4\n",
        "tvshows.sort(reverse=True)\n",
        "print(tvshows)\n",
        "#question 5\n",
        "message_1=\"I watch\"\n",
        "message_2= \"favorite shows\"\n",
        "lenght= len(tvshows)\n",
        "full_message= message_1 + \"\"+ str(lenght) +\"\"+ message_2\n",
        "print(full_message)"
      ],
      "metadata": {
        "colab": {
          "base_uri": "https://localhost:8080/"
        },
        "id": "eicazG1T-Qot",
        "outputId": "f8bdc8a0-cc20-4c77-d3ce-12998a40ab35"
      },
      "execution_count": 38,
      "outputs": [
        {
          "output_type": "stream",
          "name": "stdout",
          "text": [
            "['Stranger Things', 'In the Dark', 'Lincoln Lawyer', 'Russian Doll', 'Seven Seconds']\n",
            "['In the Dark', 'Lincoln Lawyer', 'Russian Doll', 'Seven Seconds', 'Stranger Things']\n",
            "['In the Dark', 'Lincoln Lawyer', 'Russian Doll', 'Seven Seconds', 'Stranger Things']\n",
            "['Stranger Things', 'Seven Seconds', 'Russian Doll', 'Lincoln Lawyer', 'In the Dark']\n",
            "I watch5favorite shows\n"
          ]
        }
      ]
    },
    {
      "cell_type": "markdown",
      "source": [
        "Unit 2_L4\n"
      ],
      "metadata": {
        "id": "hr8AiGlAHWr8"
      }
    },
    {
      "cell_type": "code",
      "source": [
        "#Question 1\n",
        "\n",
        "americansports= ['baseball','golf','badminton','tennis','hockey']\n",
        "#Question 2\n",
        "for sports in americansports:\n",
        "  print(sports)\n",
        "#Question 3\n",
        "print(sports.title() +\", is my favorite sport\")\n",
        "\n",
        "#Question 4\n",
        "numbers= list(range(0,20, 2))\n",
        "print(numbers)\n",
        "\n",
        "#Question 5\n",
        "americansports.sort()\n",
        "print(americansports)\n",
        "\n",
        "#Question 6\n",
        "print(americansports[0:3])\n",
        "#Question 7\n",
        "for sport in americansports[-2:]:\n",
        "  print(sport.title())"
      ],
      "metadata": {
        "colab": {
          "base_uri": "https://localhost:8080/"
        },
        "id": "mUIJhpNNHZOY",
        "outputId": "02e535ab-2929-4e18-e73e-9bd75a5ed4b6"
      },
      "execution_count": 47,
      "outputs": [
        {
          "output_type": "stream",
          "name": "stdout",
          "text": [
            "baseball\n",
            "golf\n",
            "badminton\n",
            "tennis\n",
            "hockey\n",
            "Hockey, is my favorite sport\n",
            "[0, 2, 4, 6, 8, 10, 12, 14, 16, 18]\n",
            "['badminton', 'baseball', 'golf', 'hockey', 'tennis']\n",
            "['badminton', 'baseball', 'golf']\n",
            "Hockey\n",
            "Tennis\n"
          ]
        }
      ]
    },
    {
      "cell_type": "markdown",
      "source": [
        "Unit 2_L5"
      ],
      "metadata": {
        "id": "HeGefsDyMbbI"
      }
    },
    {
      "cell_type": "code",
      "source": [
        "#Question 1\n",
        "\n",
        "account_type= ['admin','user1','user2','user3','user4']\n",
        "for type in account_type:\n",
        "  if type == 'admin':\n",
        "    print('welcome to your computer!')\n",
        "else:\n",
        "      print('welcome!'+ type)"
      ],
      "metadata": {
        "colab": {
          "base_uri": "https://localhost:8080/"
        },
        "id": "GSA6qPxKMr3j",
        "outputId": "f25130a8-959b-4233-864a-ded486f2e664"
      },
      "execution_count": 54,
      "outputs": [
        {
          "output_type": "stream",
          "name": "stdout",
          "text": [
            "welcome to your computer!\n",
            "welcome!user4\n"
          ]
        }
      ]
    }
  ]
}